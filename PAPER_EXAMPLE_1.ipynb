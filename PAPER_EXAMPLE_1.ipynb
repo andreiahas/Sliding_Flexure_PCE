{
 "cells": [
  {
   "cell_type": "markdown",
   "id": "253a3200",
   "metadata": {},
   "source": [
    "# Paper Example:\n",
    "\n",
    "We will use the PCE_calculator module to perform the calculations of Section 5 (\"Application Exmaple\") in the paper:\n",
    "\n",
    "A. Silva, D. Pizarro, and B. Stojadinovic, “Displacement prediction equations for seismic design of single\n",
    "friction pendulum base-isolated structures”, In press.\n",
    "\n",
    "We start by setting up the input hazard curves and functions to calculate the fragility curve and the mean annual frequency of exceeding limit state thresholds."
   ]
  },
  {
   "cell_type": "code",
   "execution_count": 1,
   "id": "5faa4ff1",
   "metadata": {
    "ExecuteTime": {
     "end_time": "2024-03-22T09:54:08.861201Z",
     "start_time": "2024-03-22T09:54:08.843249Z"
    }
   },
   "outputs": [],
   "source": [
    "import numpy as np\n",
    "# First step: input the hazard curves values for San Jose (California) site type D\n",
    "# Input Hazard Curves:\n",
    "## Hazard curve for Sa(T=0.5s) in g\n",
    "SaT1_0p5 = np.array([0.0033, 0.0050, 0.0075, 0.0112, 0.0169, 0.0253, 0.0379, 0.0569, 0.0853, 0.1280,\n",
    "            0.1920, 0.2880, 0.4320, 0.6480, 0.9720, 1.4600, 2.1900, 3.2800, 4.9200, 7.3800]) # in g\n",
    "MAF_SaT1_0p5 = np.array([1.4112e+00, 1.2319e+00, 1.0402e+00, 8.4929e-01, 6.6328e-01, 4.9971e-01, 3.6208e-01,\n",
    "                         2.5266e-01, 1.7053e-01, 1.1107e-01, 6.9974e-02, 4.2369e-02, 2.4013e-02, 1.2132e-02,\n",
    "                         5.1558e-03, 1.7363e-03, 4.3700e-04, 7.3826e-05, 6.7674e-06, 2.0466e-07 ])\n",
    "## Hazard curve for Sa(T=0.75s) in g\n",
    "SaT1_0p75 = np.array([0.0025, 0.0037, 0.0056, 0.0084, 0.0126, 0.0190, 0.0284, 0.0427, 0.0640, 0.0960, \n",
    "             0.1440, 0.2160, 0.3240, 0.4860, 0.7290, 1.0900, 1.6400, 2.4600, 3.6900, 5.5400]) # in g\n",
    "MAF_SaT1_0p75 = np.array([1.3966e+00, 1.2132e+00, 1.0185e+00, 8.2311e-01, 6.4004e-01, 4.7430e-01, 3.4012e-01,\n",
    "                          2.3429e-01, 1.5677e-01, 1.0175e-01, 6.4261e-02, 3.9356e-02, 2.2869e-02, 1.2098e-02,\n",
    "                          5.5390e-03, 2.1068e-03, 6.1393e-04, 1.2896e-04, 1.6406e-05, 9.0019e-07])\n",
    "## Hazard curve for PGV in cm/s\n",
    "PGV = np.array([0.2370, 0.3550, 0.5320, 0.7980, 1.1900, 1.8000, 2.6900, 4.0400, 6.0600, 9.0900, 13.6000,\n",
    "       20.5000, 30.7000, 46.0000, 69.0000, 103.0000, 155.0000, 233.0000, 349.0000, 525.0000]) # in cm/s\n",
    "MAF_PGV = np.array([1.1289e+00, 9.4068e-01, 7.5691e-01, 5.8529e-01, 4.3678e-01, 3.1096e-01, 2.1694e-01,\n",
    "                    1.4654e-01, 9.6565e-02, 6.2430e-02, 3.9847e-02, 2.4332e-02, 1.3755e-02, 6.7175e-03,\n",
    "                    2.6775e-03, 8.4872e-04, 1.9644e-04, 3.1402e-05, 2.9382e-06, 8.5668e-08])"
   ]
  },
  {
   "cell_type": "code",
   "execution_count": 2,
   "id": "499b6cdd",
   "metadata": {
    "ExecuteTime": {
     "end_time": "2024-03-22T09:54:09.585623Z",
     "start_time": "2024-03-22T09:54:08.863197Z"
    }
   },
   "outputs": [],
   "source": [
    "# Second Step: import functions and define the functions needed for the calculations\n",
    "from PCE_calculator import InputChecker\n",
    "from PCE_calculator import DataLoader\n",
    "from PCE_calculator import PCECalculator\n",
    "from scipy.stats import norm\n",
    "\n",
    "def interpolate_HCs_SaT(HC1,MAF1,T1,HC2,MAF2,T2,T3):\n",
    "    \"\"\"\n",
    "    Calculate the interpolation between two hazard curves at periods T1 and T2 and return the hazard curve for period T3\n",
    "\n",
    "    Args:\n",
    "    - HC1,HC2 = hazard curve values (Sa(T))\n",
    "    - MAF1,MAF2 = mean annual frequency of exceedance of each hazard curve\n",
    "    - T1,T2 : period linked to the IM.\n",
    "    - T3: period of the output hazard curve\n",
    "\n",
    "    Returns:\n",
    "    - HC3, MAF3 = hazard curve values (IMs) and mean annual frequency of exceedance of Sa(T3)\n",
    "    \"\"\"\n",
    "    sa_x = np.linspace(min(min(HC1), min(HC2)), max(max(HC1), max(HC2)), 1000)\n",
    "    MAF1_interp = np.exp(np.interp(np.log(sa_x),np.log(HC1),np.log(MAF1)))\n",
    "    MAF2_interp = np.exp(np.interp(np.log(sa_x),np.log(HC2),np.log(MAF2)))\n",
    "    MAF3_interp = np.zeros(1000)\n",
    "    for i in range(len(MAF1_interp)):\n",
    "        #MAF3_interp[i] = np.exp(np.log(MAF1_interp) + ((T3 - T1) / (T2 - T1)) * (np.log(MAF2_interp) - np.log(MAF1_interp)))\n",
    "        MAF3_interp[i] = np.exp(np.interp(T3,[T1, T2],[np.log(MAF1_interp[i]), np.log(MAF2_interp[i])]))\n",
    "    return sa_x, MAF3_interp\n",
    "\n",
    "\n",
    "def frag_from_coefs(limit, IMs, c1, c2, beta):\n",
    "    \"\"\"\n",
    "    Calculate the fragility function based on the cloud coefficients c1, c2, and beta.\n",
    "    The fragility function is the probability of exceeding a \"limit\" given an \"IM\".\n",
    "    The formula of the cloud analysis is: ln(displacement) = c1 + c2 * ln(IM) + beta\n",
    "\n",
    "    Args:\n",
    "    - limit: limit threshold.\n",
    "    - c1, c2, beta = cloud coefficients\n",
    "    - IMs: Vector of intensity measure values (herein, Sd(T1) and PGV).\n",
    "\n",
    "    Returns:\n",
    "    - fragility: Vector of the fragility curve given IMs.\n",
    "    \"\"\"\n",
    "    # Calculate the argument of the CDF\n",
    "    argument = (np.log(limit) - (c1 + c2 * np.log(IMs))) / beta\n",
    "\n",
    "    # Calculate the CDF using scipy.stats.norm.cdf\n",
    "    fragility = 1 - norm.cdf(argument, 0, 1)\n",
    "\n",
    "    return fragility\n",
    "\n",
    "def calculate_MAF(IM,HC,frag,limit):\n",
    "    \"\"\"\n",
    "    Calculate the MAF of exceeding a limit state threshold given a hazard curve and a fragility function.\n",
    "\n",
    "    Args:\n",
    "    - IM : vector of IM that the fragility and the hazard curve are a function of.\n",
    "    - HC : vector of hazard curve MAF(IM).\n",
    "    - frag : fragility curve defined as a function of IM, thus: P(x>threshold | IM)\n",
    "    - limit: limit threshold.\n",
    "\n",
    "    Returns:\n",
    "    - MAF: Mean annual frequency of exceeding the limit\n",
    "    \"\"\"\n",
    "    # Calculate the derivative of the fragility curve:\n",
    "    derivative_fragility = np.diff(frag) / np.diff(IM)\n",
    "    derivative_fragility = np.insert(derivative_fragility, 0, 0)\n",
    "    \n",
    "    # Calculate the intergral of (HC*dFrag) with trapezium rule\n",
    "    product = derivative_fragility * HC\n",
    "    MAF = np.trapz(product,IM)\n",
    "    \n",
    "    return MAF"
   ]
  },
  {
   "cell_type": "markdown",
   "id": "a2a54484",
   "metadata": {},
   "source": [
    "Before starting the calculation, we must ensure that the hazard curves are in the correct unities (meters and meters/sec) and increase their granularity by linearly interpolating them in the log space."
   ]
  },
  {
   "cell_type": "code",
   "execution_count": 3,
   "id": "a7292d75",
   "metadata": {
    "ExecuteTime": {
     "end_time": "2024-03-22T09:54:09.616583Z",
     "start_time": "2024-03-22T09:54:09.588619Z"
    }
   },
   "outputs": [],
   "source": [
    "# 3rd step: Hazard curve treatment\n",
    "## 3.1. Make sure the hazard curves are in the correct unities,\n",
    "SdT1_0p5 = SaT1_0p5 * 9.81 * (0.5/2/np.pi)**2  # in m\n",
    "SdT1_0p75 = SaT1_0p75 * 9.81 * (0.75/2/np.pi)**2  # in m\n",
    "PGV_m = PGV / 100 # in m\n",
    "\n",
    "## 3.2 Interpolate the hazard curves for different periods (if needed)\n",
    "SaT1_0p6, MAF_SaT1_0p6 = interpolate_HCs_SaT(SaT1_0p5,MAF_SaT1_0p5,0.5,SaT1_0p75,MAF_SaT1_0p75,0.75,0.6)\n",
    "SdT1_0p6 = SaT1_0p6 * 9.81 * (0.6/2/np.pi)**2  # in m\n",
    "\n",
    "## 3.3. Make the hazard curves more granular by linear interpolating in the log space\n",
    "SdT1_0p5_interp = np.linspace(min(SdT1_0p5), max(SdT1_0p5), 1000)\n",
    "MAF_SdT1_0p5_interp = np.exp(np.interp(np.log(SdT1_0p5_interp),np.log(SdT1_0p5),np.log(MAF_SaT1_0p5)))\n",
    "\n",
    "SdT1_0p75_interp = np.linspace(min(SdT1_0p75), max(SdT1_0p75), 1000)\n",
    "MAF_SdT1_0p75_interp = np.exp(np.interp(np.log(SdT1_0p75_interp),np.log(SdT1_0p75),np.log(MAF_SaT1_0p75)))\n",
    "\n",
    "PGV_interp = np.linspace(min(PGV_m), max(PGV_m), 1000)\n",
    "MAF_PGV_interp = np.exp(np.interp(np.log(PGV_interp),np.log(PGV_m),np.log(MAF_PGV)))\n"
   ]
  },
  {
   "cell_type": "markdown",
   "id": "091b932e",
   "metadata": {},
   "source": [
    "Now we do the calculations for the first line of Table 3 in the paper:"
   ]
  },
  {
   "cell_type": "code",
   "execution_count": 4,
   "id": "f97dbb50",
   "metadata": {
    "ExecuteTime": {
     "end_time": "2024-03-22T09:54:09.789706Z",
     "start_time": "2024-03-22T09:54:09.619580Z"
    }
   },
   "outputs": [
    {
     "name": "stdout",
     "output_type": "stream",
     "text": [
      "The MAF(D1>0.084m) is 1.28e-16\n",
      "The MAF(u0>0.4m) is 1.07e-03\n"
     ]
    }
   ],
   "source": [
    "# 4th step: calculate MAF of limit states (values of Table 3 in the paper)\n",
    "# Input for the PCE metamodeL:\n",
    "T1 = 0.5 # possible from 0.1 to 1, in seconds\n",
    "mratio = 0.55 # possible from 0.3 to 0.9\n",
    "muf = 0.05 # possible from 0.03 to 0.18\n",
    "Tb = 4.5 # possible from 3 to 6, in seconds\n",
    "\n",
    "# Threshold limit for fragility function:\n",
    "frag_lim_D1 = 0.084 # in meters\n",
    "frag_lim_u0 = 0.40 # in meters\n",
    "\n",
    "# Calculate PCE\n",
    "c1D1, c2D1, betaD1 = PCECalculator.run_PCE(T1,muf,mratio,Tb,'D1','GM')\n",
    "c1u0, c2u0, betau0 = PCECalculator.run_PCE(T1,muf,mratio,Tb,'u0','GM')\n",
    "\n",
    "# Calculate fragility\n",
    "fragilityD1 = frag_from_coefs(frag_lim_D1, SdT1_0p5_interp, c1D1, c2D1, betaD1)\n",
    "fragilityu0 = frag_from_coefs(frag_lim_u0, PGV_interp, c1u0, c2u0, betau0)\n",
    "\n",
    "# Calculate MAF\n",
    "MAF_D1 = calculate_MAF(SdT1_0p5_interp, MAF_SdT1_0p5_interp, fragilityD1, frag_lim_D1)\n",
    "MAF_u0 = calculate_MAF(PGV_interp, MAF_PGV_interp, fragilityu0, frag_lim_u0)\n",
    "\n",
    "print(f\"The MAF(D1>{frag_lim_D1:.3g}m) is {MAF_D1:.2e}\")\n",
    "print(f\"The MAF(u0>{frag_lim_u0:.1g}m) is {MAF_u0:.2e}\")"
   ]
  },
  {
   "cell_type": "code",
   "execution_count": 5,
   "id": "91602c51",
   "metadata": {
    "ExecuteTime": {
     "end_time": "2024-03-22T09:54:09.962039Z",
     "start_time": "2024-03-22T09:54:09.793020Z"
    }
   },
   "outputs": [
    {
     "name": "stdout",
     "output_type": "stream",
     "text": [
      "The MAF(D1>0.084m) is 1.11e-16\n",
      "The MAF(u0>0.4m) is 9.22e-04\n"
     ]
    }
   ],
   "source": [
    "# Change the friction coefficient to 0.06 and repeat the procedure:\n",
    "T1 = 0.5 # possible from 0.1 to 1, in seconds\n",
    "mratio = 0.55 # possible from 0.3 to 0.9\n",
    "muf = 0.06 # possible from 0.03 to 0.18\n",
    "Tb = 4.5 # possible from 3 to 6, in seconds\n",
    "\n",
    "# Calculate PCE\n",
    "c1D1, c2D1, betaD1 = PCECalculator.run_PCE(T1,muf,mratio,Tb,'D1','GM')\n",
    "c1u0, c2u0, betau0 = PCECalculator.run_PCE(T1,muf,mratio,Tb,'u0','GM')\n",
    "\n",
    "# Calculate fragility\n",
    "fragilityD1 = frag_from_coefs(frag_lim_D1, SdT1_0p5_interp, c1D1, c2D1, betaD1)\n",
    "fragilityu0 = frag_from_coefs(frag_lim_u0, PGV_interp, c1u0, c2u0, betau0)\n",
    "\n",
    "# Calculate MAF\n",
    "MAF_D1 = calculate_MAF(SdT1_0p5_interp, MAF_SdT1_0p5_interp, fragilityD1, frag_lim_D1)\n",
    "MAF_u0 = calculate_MAF(PGV_interp, MAF_PGV_interp, fragilityu0, frag_lim_u0)\n",
    "\n",
    "print(f\"The MAF(D1>{frag_lim_D1:.3g}m) is {MAF_D1:.2e}\")\n",
    "print(f\"The MAF(u0>{frag_lim_u0:.1g}m) is {MAF_u0:.2e}\")"
   ]
  },
  {
   "cell_type": "code",
   "execution_count": 6,
   "id": "07900293",
   "metadata": {
    "ExecuteTime": {
     "end_time": "2024-03-22T09:54:10.135616Z",
     "start_time": "2024-03-22T09:54:09.967150Z"
    }
   },
   "outputs": [
    {
     "name": "stdout",
     "output_type": "stream",
     "text": [
      "The MAF(D1>0.084m) is 2.13e-15\n",
      "The MAF(u0>0.4m) is 7.26e-04\n"
     ]
    }
   ],
   "source": [
    "# Change the friction coefficient to 0.08 and repeat the procedure:\n",
    "T1 = 0.5 # possible from 0.1 to 1, in seconds\n",
    "mratio = 0.55 # possible from 0.3 to 0.9\n",
    "muf = 0.08 # possible from 0.03 to 0.18\n",
    "Tb = 4.5 # possible from 3 to 6, in seconds\n",
    "\n",
    "# Calculate PCE\n",
    "c1D1, c2D1, betaD1 = PCECalculator.run_PCE(T1,muf,mratio,Tb,'D1','GM')\n",
    "c1u0, c2u0, betau0 = PCECalculator.run_PCE(T1,muf,mratio,Tb,'u0','GM')\n",
    "\n",
    "# Calculate fragility\n",
    "fragilityD1 = frag_from_coefs(frag_lim_D1, SdT1_0p5_interp, c1D1, c2D1, betaD1)\n",
    "fragilityu0 = frag_from_coefs(frag_lim_u0, PGV_interp, c1u0, c2u0, betau0)\n",
    "\n",
    "# Calculate MAF\n",
    "MAF_D1 = calculate_MAF(SdT1_0p5_interp, MAF_SdT1_0p5_interp, fragilityD1, frag_lim_D1)\n",
    "MAF_u0 = calculate_MAF(PGV_interp, MAF_PGV_interp, fragilityu0, frag_lim_u0)\n",
    "\n",
    "print(f\"The MAF(D1>{frag_lim_D1:.3g}m) is {MAF_D1:.2e}\")\n",
    "print(f\"The MAF(u0>{frag_lim_u0:.1g}m) is {MAF_u0:.2e}\")"
   ]
  },
  {
   "cell_type": "code",
   "execution_count": 7,
   "id": "d5f24917",
   "metadata": {
    "ExecuteTime": {
     "end_time": "2024-03-22T09:54:10.308449Z",
     "start_time": "2024-03-22T09:54:10.138609Z"
    }
   },
   "outputs": [
    {
     "name": "stdout",
     "output_type": "stream",
     "text": [
      "The MAF(D1>0.084m) is 1.31e-13\n",
      "The MAF(u0>0.4m) is 6.03e-04\n"
     ]
    }
   ],
   "source": [
    "# Change the friction coefficient to 0.1 and repeat the procedure:\n",
    "T1 = 0.5 # possible from 0.1 to 1, in seconds\n",
    "mratio = 0.55 # possible from 0.3 to 0.9\n",
    "muf = 0.1 # possible from 0.03 to 0.18\n",
    "Tb = 4.5 # possible from 3 to 6, in seconds\n",
    "\n",
    "# Calculate PCE\n",
    "c1D1, c2D1, betaD1 = PCECalculator.run_PCE(T1,muf,mratio,Tb,'D1','GM')\n",
    "c1u0, c2u0, betau0 = PCECalculator.run_PCE(T1,muf,mratio,Tb,'u0','GM')\n",
    "\n",
    "# Calculate fragility\n",
    "fragilityD1 = frag_from_coefs(frag_lim_D1, SdT1_0p5_interp, c1D1, c2D1, betaD1)\n",
    "fragilityu0 = frag_from_coefs(frag_lim_u0, PGV_interp, c1u0, c2u0, betau0)\n",
    "\n",
    "# Calculate MAF\n",
    "MAF_D1 = calculate_MAF(SdT1_0p5_interp, MAF_SdT1_0p5_interp, fragilityD1, frag_lim_D1)\n",
    "MAF_u0 = calculate_MAF(PGV_interp, MAF_PGV_interp, fragilityu0, frag_lim_u0)\n",
    "\n",
    "print(f\"The MAF(D1>{frag_lim_D1:.3g}m) is {MAF_D1:.2e}\")\n",
    "print(f\"The MAF(u0>{frag_lim_u0:.1g}m) is {MAF_u0:.2e}\")"
   ]
  },
  {
   "cell_type": "code",
   "execution_count": 8,
   "id": "b6389e96",
   "metadata": {
    "ExecuteTime": {
     "end_time": "2024-03-22T09:54:10.479549Z",
     "start_time": "2024-03-22T09:54:10.311054Z"
    }
   },
   "outputs": [
    {
     "name": "stdout",
     "output_type": "stream",
     "text": [
      "The MAF(D1>0.084m) is 1.87e-11\n",
      "The MAF(u0>0.4m) is 5.61e-04\n"
     ]
    }
   ],
   "source": [
    "# Change the base period to 3.2sec and repeat the procedure:\n",
    "T1 = 0.5 # possible from 0.1 to 1, in seconds\n",
    "mratio = 0.55 # possible from 0.3 to 0.9\n",
    "muf = 0.1 # possible from 0.03 to 0.18\n",
    "Tb = 3.2 # possible from 3 to 6, in seconds\n",
    "\n",
    "# Calculate PCE\n",
    "c1D1, c2D1, betaD1 = PCECalculator.run_PCE(T1,muf,mratio,Tb,'D1','GM')\n",
    "c1u0, c2u0, betau0 = PCECalculator.run_PCE(T1,muf,mratio,Tb,'u0','GM')\n",
    "\n",
    "# Calculate fragility\n",
    "fragilityD1 = frag_from_coefs(frag_lim_D1, SdT1_0p5_interp, c1D1, c2D1, betaD1)\n",
    "fragilityu0 = frag_from_coefs(frag_lim_u0, PGV_interp, c1u0, c2u0, betau0)\n",
    "\n",
    "# Calculate MAF\n",
    "MAF_D1 = calculate_MAF(SdT1_0p5_interp, MAF_SdT1_0p5_interp, fragilityD1, frag_lim_D1)\n",
    "MAF_u0 = calculate_MAF(PGV_interp, MAF_PGV_interp, fragilityu0, frag_lim_u0)\n",
    "\n",
    "print(f\"The MAF(D1>{frag_lim_D1:.3g}m) is {MAF_D1:.2e}\")\n",
    "print(f\"The MAF(u0>{frag_lim_u0:.1g}m) is {MAF_u0:.2e}\")"
   ]
  },
  {
   "cell_type": "code",
   "execution_count": 9,
   "id": "50749266",
   "metadata": {
    "ExecuteTime": {
     "end_time": "2024-03-22T09:54:10.650444Z",
     "start_time": "2024-03-22T09:54:10.481739Z"
    }
   },
   "outputs": [
    {
     "name": "stdout",
     "output_type": "stream",
     "text": [
      "The MAF(u0>0.5m) is 3.83e-04\n",
      "The MAF(D1>0.084m) is 1.31e-13\n"
     ]
    }
   ],
   "source": [
    "# Try for another limit state threshold for u0:\n",
    "frag_lim_u0 = 0.5 # m\n",
    "\n",
    "# And the previous input (with Tb = 4.5)\n",
    "T1 = 0.5 # possible from 0.1 to 1, in seconds\n",
    "mratio = 0.55 # possible from 0.3 to 0.9\n",
    "muf = 0.1 # possible from 0.03 to 0.18\n",
    "Tb = 4.5 # possible from 3 to 6, in seconds\n",
    "\n",
    "# Calculate PCE\n",
    "c1D1, c2D1, betaD1 = PCECalculator.run_PCE(T1,muf,mratio,Tb,'D1','GM')\n",
    "c1u0, c2u0, betau0 = PCECalculator.run_PCE(T1,muf,mratio,Tb,'u0','GM')\n",
    "\n",
    "# Calculate fragility\n",
    "fragilityD1 = frag_from_coefs(frag_lim_D1, SdT1_0p5_interp, c1D1, c2D1, betaD1)\n",
    "fragilityu0 = frag_from_coefs(frag_lim_u0, PGV_interp, c1u0, c2u0, betau0)\n",
    "\n",
    "# Calculate MAF\n",
    "MAF_D1 = calculate_MAF(SdT1_0p5_interp, MAF_SdT1_0p5_interp, fragilityD1, frag_lim_D1)\n",
    "MAF_u0 = calculate_MAF(PGV_interp, MAF_PGV_interp, fragilityu0, frag_lim_u0)\n",
    "\n",
    "print(f\"The MAF(u0>{frag_lim_u0:.1g}m) is {MAF_u0:.2e}\")\n",
    "print(f\"The MAF(D1>{frag_lim_D1:.3g}m) is {MAF_D1:.2e}\")"
   ]
  },
  {
   "cell_type": "code",
   "execution_count": 10,
   "id": "641259df",
   "metadata": {
    "ExecuteTime": {
     "end_time": "2024-03-22T09:54:10.823244Z",
     "start_time": "2024-03-22T09:54:10.653435Z"
    }
   },
   "outputs": [
    {
     "name": "stdout",
     "output_type": "stream",
     "text": [
      "The MAF(D1>0.084m) is 4.49e-05\n",
      "The MAF(u0>0.5m) is 4.16e-04\n"
     ]
    }
   ],
   "source": [
    "# Change the superstructure first-mode natural period repeat the procedure:\n",
    "## Attention! When we change the period we need to change the hazard curve accordingly:\n",
    "T1 = 0.75 # s\n",
    "\n",
    "# Calculate PCE\n",
    "c1D1, c2D1, betaD1 = PCECalculator.run_PCE(T1,muf,mratio,Tb,'D1','GM')\n",
    "c1u0, c2u0, betau0 = PCECalculator.run_PCE(T1,muf,mratio,Tb,'u0','GM')\n",
    "\n",
    "# Calculate fragility\n",
    "fragilityD1 = frag_from_coefs(frag_lim_D1, SdT1_0p75_interp, c1D1, c2D1, betaD1)\n",
    "fragilityu0 = frag_from_coefs(frag_lim_u0, PGV_interp, c1u0, c2u0, betau0)\n",
    "\n",
    "# Calculate MAF\n",
    "MAF_D1 = calculate_MAF(SdT1_0p75_interp, MAF_SdT1_0p75_interp, fragilityD1, frag_lim_D1)\n",
    "MAF_u0 = calculate_MAF(PGV_interp, MAF_PGV_interp, fragilityu0, frag_lim_u0)\n",
    "\n",
    "print(f\"The MAF(D1>{frag_lim_D1:.3g}m) is {MAF_D1:.2e}\")\n",
    "print(f\"The MAF(u0>{frag_lim_u0:.1g}m) is {MAF_u0:.2e}\")"
   ]
  },
  {
   "cell_type": "code",
   "execution_count": 11,
   "id": "3ab8dd56",
   "metadata": {
    "ExecuteTime": {
     "end_time": "2024-03-22T09:54:11.012906Z",
     "start_time": "2024-03-22T09:54:10.825240Z"
    }
   },
   "outputs": [
    {
     "name": "stdout",
     "output_type": "stream",
     "text": [
      "The MAF(D1>0.084m) is 2.06e-08\n",
      "The MAF(u0>0.5m) is 3.92e-04\n"
     ]
    }
   ],
   "source": [
    "# Change the period repeat the procedure:\n",
    "## Attention! When we change the period we need to change the hazard curve accordingly\n",
    "T1 = 0.6 # s\n",
    "\n",
    "# Calculate PCE\n",
    "c1D1, c2D1, betaD1 = PCECalculator.run_PCE(T1,muf,mratio,Tb,'D1','GM')\n",
    "c1u0, c2u0, betau0 = PCECalculator.run_PCE(T1,muf,mratio,Tb,'u0','GM')\n",
    "\n",
    "# Calculate fragility\n",
    "fragilityD1 = frag_from_coefs(frag_lim_D1, SdT1_0p6, c1D1, c2D1, betaD1)\n",
    "fragilityu0 = frag_from_coefs(frag_lim_u0, PGV_interp, c1u0, c2u0, betau0)\n",
    "\n",
    "# Calculate MAF\n",
    "MAF_D1 = calculate_MAF(SdT1_0p6, MAF_SaT1_0p6, fragilityD1, frag_lim_D1)\n",
    "MAF_u0 = calculate_MAF(PGV_interp, MAF_PGV_interp, fragilityu0, frag_lim_u0)\n",
    "\n",
    "print(f\"The MAF(D1>{frag_lim_D1:.3g}m) is {MAF_D1:.2e}\")\n",
    "print(f\"The MAF(u0>{frag_lim_u0:.1g}m) is {MAF_u0:.2e}\")"
   ]
  },
  {
   "cell_type": "code",
   "execution_count": 12,
   "id": "f50c835b",
   "metadata": {
    "ExecuteTime": {
     "end_time": "2024-03-22T09:54:11.196676Z",
     "start_time": "2024-03-22T09:54:11.015416Z"
    }
   },
   "outputs": [
    {
     "name": "stdout",
     "output_type": "stream",
     "text": [
      "The MAF(D1>0.084m) is 1.57e-08\n",
      "The MAF(u0>0.5m) is 4.06e-04\n"
     ]
    }
   ],
   "source": [
    "# Change the base period repeat the procedure:\n",
    "Tb = 5 # s\n",
    "\n",
    "# Calculate PCE\n",
    "c1D1, c2D1, betaD1 = PCECalculator.run_PCE(T1,muf,mratio,Tb,'D1','GM')\n",
    "c1u0, c2u0, betau0 = PCECalculator.run_PCE(T1,muf,mratio,Tb,'u0','GM')\n",
    "\n",
    "# Calculate fragility\n",
    "fragilityD1 = frag_from_coefs(frag_lim_D1, SdT1_0p6, c1D1, c2D1, betaD1)\n",
    "fragilityu0 = frag_from_coefs(frag_lim_u0, PGV_interp, c1u0, c2u0, betau0)\n",
    "\n",
    "# Calculate MAF\n",
    "MAF_D1 = calculate_MAF(SdT1_0p6, MAF_SaT1_0p6, fragilityD1, frag_lim_D1)\n",
    "MAF_u0 = calculate_MAF(PGV_interp, MAF_PGV_interp, fragilityu0, frag_lim_u0)\n",
    "\n",
    "print(f\"The MAF(D1>{frag_lim_D1:.3g}m) is {MAF_D1:.2e}\")\n",
    "print(f\"The MAF(u0>{frag_lim_u0:.1g}m) is {MAF_u0:.2e}\")"
   ]
  }
 ],
 "metadata": {
  "kernelspec": {
   "display_name": "Python 3 (ipykernel)",
   "language": "python",
   "name": "python3"
  },
  "language_info": {
   "codemirror_mode": {
    "name": "ipython",
    "version": 3
   },
   "file_extension": ".py",
   "mimetype": "text/x-python",
   "name": "python",
   "nbconvert_exporter": "python",
   "pygments_lexer": "ipython3",
   "version": "3.9.18"
  },
  "toc": {
   "base_numbering": 1,
   "nav_menu": {},
   "number_sections": true,
   "sideBar": true,
   "skip_h1_title": false,
   "title_cell": "Table of Contents",
   "title_sidebar": "Contents",
   "toc_cell": false,
   "toc_position": {},
   "toc_section_display": true,
   "toc_window_display": false
  },
  "varInspector": {
   "cols": {
    "lenName": 16,
    "lenType": 16,
    "lenVar": 40
   },
   "kernels_config": {
    "python": {
     "delete_cmd_postfix": "",
     "delete_cmd_prefix": "del ",
     "library": "var_list.py",
     "varRefreshCmd": "print(var_dic_list())"
    },
    "r": {
     "delete_cmd_postfix": ") ",
     "delete_cmd_prefix": "rm(",
     "library": "var_list.r",
     "varRefreshCmd": "cat(var_dic_list()) "
    }
   },
   "oldHeight": 633.25,
   "position": {
    "height": "40px",
    "left": "1314px",
    "right": "20px",
    "top": "118px",
    "width": "389.4px"
   },
   "types_to_exclude": [
    "module",
    "function",
    "builtin_function_or_method",
    "instance",
    "_Feature"
   ],
   "varInspector_section_display": "none",
   "window_display": true
  }
 },
 "nbformat": 4,
 "nbformat_minor": 5
}
