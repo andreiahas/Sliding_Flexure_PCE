{
 "cells": [
  {
   "cell_type": "markdown",
   "id": "253a3200",
   "metadata": {},
   "source": [
    "# Dissertation Example:\n",
    "\n",
    "We will use the PCE_calculator module to perform the calculations of section 4.5 in the dissertation.\n",
    "\n",
    "We start by setting up the input hazard curves and some functions to calculate the mean annual frequency of exceeding limit state thresholds."
   ]
  },
  {
   "cell_type": "code",
   "execution_count": 1,
   "id": "5faa4ff1",
   "metadata": {
    "ExecuteTime": {
     "end_time": "2024-02-16T07:40:12.285296Z",
     "start_time": "2024-02-16T07:40:12.155451Z"
    }
   },
   "outputs": [],
   "source": [
    "import numpy as np\n",
    "# First step: input the hazard curves values for Seattle (Washington, US) at site class D\n",
    "# Input Hazard Curves:\n",
    "## Hazard curve for Sa(T=0.5s) in g\n",
    "SaT1_0p5 = np.array([3.33e-03,4.99e-03,7.49e-03,1.12e-02,1.69e-02,2.53e-02,3.79e-02,5.69e-02,8.53e-02,1.28e-01,\n",
    "                     1.92e-01,2.88e-01,4.32e-01,6.48e-01,9.72e-01,1.46e+00,2.19e+00,3.28e+00,4.92e+00,7.38e+00]) # in g\n",
    "MAF_SaT1_0p5 = np.array([3.26332505e-01, 2.97311836e-01, 2.62163389e-01, 2.23217181e-01, 1.81684122e-01,\n",
    "                         1.42032902e-01, 1.05926122e-01, 7.51216743e-02, 5.07874237e-02, 3.26517181e-02,\n",
    "                         1.99433957e-02, 1.14707137e-02, 6.10767896e-03, 2.93842635e-03, 1.24133929e-03,\n",
    "                         4.42923925e-04, 1.28116361e-04, 2.80302209e-05, 4.07941937e-06, 3.01653082e-07])\n",
    "## Hazard curve for Sa(T=0.75s) in g\n",
    "SaT1_0p75 = np.array([2.50e-03, 3.75e-03, 5.62e-03, 8.43e-03, 1.26e-02, 1.90e-02, 2.84e-02, 4.27e-02, 6.40e-02,\n",
    "                      9.60e-02, 1.44e-01, 2.16e-01, 3.24e-01, 4.86e-01, 7.29e-01, 1.09e+00, 1.64e+00, 2.46e+00,\n",
    "                      3.69e+00, 5.54e+00]) # in g\n",
    "MAF_SaT1_0p75 = np.array([3.26007268e-01, 2.96443354e-01, 2.60940080e-01, 2.21371711e-01, 1.80790479e-01,\n",
    "                          1.40743830e-01, 1.05384221e-01, 7.50928510e-02, 5.13086801e-02, 3.35423384e-02,\n",
    "                          2.09967194e-02, 1.25368258e-02, 7.05701991e-03, 3.66621784e-03, 1.70930962e-03,\n",
    "                          6.98245433e-04, 2.35374180e-04, 6.36160157e-05, 1.26119963e-05, 1.56204833e-06])\n",
    "## Hazard curve for Sa(T=1.0s) in g\n",
    "SaT1_1 = np.array([2.50e-03, 3.75e-03, 5.62e-03, 8.43e-03, 1.26e-02, 1.90e-02, 2.84e-02, 4.27e-02, 6.40e-02,\n",
    "                   9.60e-02, 1.44e-01, 2.16e-01, 3.24e-01, 4.86e-01, 7.29e-01, 1.09e+00, 1.64e+00, 2.46e+00,\n",
    "                   3.69e+00, 5.54e+00]) # in g\n",
    "MAF_SaT1_1 = np.array([3.05942447e-01, 2.71959035e-01, 2.33464778e-01, 1.92876456e-01, 1.53417414e-01,\n",
    "                       1.16442445e-01, 8.53182730e-02, 5.97169859e-02, 4.02488727e-02, 2.60456347e-02,\n",
    "                       1.61888032e-02, 9.62916346e-03, 5.42199893e-03, 2.83358304e-03, 1.33712911e-03,\n",
    "                       5.55764371e-04, 1.91719768e-04, 5.34495049e-05, 1.10985142e-05, 1.44167810e-06])\n",
    "## Hazard curve for PGV in cm/s\n",
    "PGV = np.array([2.370e-01,3.550e-01,5.320e-01,7.980e-01,1.190e+00,1.800e+00,2.690e+00,4.040e+00,6.060e+00,\n",
    "                9.090e+00,1.360e+01,2.050e+01,3.070e+01,4.600e+01,6.900e+01,1.030e+02,1.550e+02,2.330e+02,\n",
    "                3.490e+02,5.250e+02]) # in cm/s\n",
    "MAF_PGV = np.array([2.77855546e-01,2.40999464e-01,2.01858481e-01,1.62792156e-01,1.26685485e-01,9.36685103e-02,\n",
    "                    6.69436752e-02,4.55074371e-02,2.94349995e-02,1.79787699e-02,1.03234222e-02,5.44864998e-03,\n",
    "                    2.70331294e-03,1.25159673e-03,5.28095990e-04,1.94727132e-04,5.68743297e-05,1.22216363e-05,\n",
    "                    1.76541679e-06,1.52154528e-07])"
   ]
  },
  {
   "cell_type": "code",
   "execution_count": 2,
   "id": "499b6cdd",
   "metadata": {
    "ExecuteTime": {
     "end_time": "2024-02-16T07:40:13.002430Z",
     "start_time": "2024-02-16T07:40:12.285296Z"
    }
   },
   "outputs": [],
   "source": [
    "# Second Step: import functions and define the functions needed for the calculations\n",
    "from PCE_calculator import InputChecker\n",
    "from PCE_calculator import DataLoader\n",
    "from PCE_calculator import PCECalculator\n",
    "from scipy.stats import norm\n",
    "\n",
    "def interpolate_HCs_SaT(HC1,MAF1,T1,HC2,MAF2,T2,T3):\n",
    "    \"\"\"\n",
    "    Calculate the interpolation between two hazard curves at periods T1 and T2 and returns the hazard curve for period T3\n",
    "\n",
    "    Args:\n",
    "    - HC1,HC2 = hazard curve values (Sa(T))\n",
    "    - MAF1,MAF2 = mean annual frequency of exceedance of each hazard curve\n",
    "    - T1,T2 : preiod linked to the IM.\n",
    "    - T3: period of the output hazard curve\n",
    "\n",
    "    Returns:\n",
    "    - HC3, MAF3 = hazard curve values (IMs) and mean annual frequency of exceedance of Sa(T3)\n",
    "    \"\"\"\n",
    "    sa_x = np.linspace(min(min(HC1), min(HC2)), max(max(HC1), max(HC2)), 1000)\n",
    "    MAF1_interp = np.exp(np.interp(np.log(sa_x),np.log(HC1),np.log(MAF1)))\n",
    "    MAF2_interp = np.exp(np.interp(np.log(sa_x),np.log(HC2),np.log(MAF2)))\n",
    "    MAF3_interp = np.zeros(1000)\n",
    "    for i in range(len(MAF1_interp)):\n",
    "        MAF3_interp[i] = np.exp(np.interp(T3,[T1, T2],[np.log(MAF1_interp[i]), np.log(MAF2_interp[i])]))\n",
    "    return sa_x, MAF3_interp\n",
    "\n",
    "\n",
    "def frag_from_coefs(limit, IMs, c1, c2, beta):\n",
    "    \"\"\"\n",
    "    Calculate the fragility function based on the cloud coefficients c1, c2 and beta.\n",
    "    The fragility function is the probability of exceeding a \"limit\" given a \"IM\".\n",
    "    The formula of the cloud analysis is: ln(displacement) = c1 + c2 * ln(IM) + beta\n",
    "\n",
    "    Args:\n",
    "    - limit: limit threshold.\n",
    "    - c1, c2, beta = cloud coefficients\n",
    "    - IMs: Vector of intensity measure values (herein, Sd(T1) and PGV).\n",
    "\n",
    "    Returns:\n",
    "    - fragility: Vector of the fragility curve given IM and limit.\n",
    "    \"\"\"\n",
    "    # Calculate the argument of the CDF\n",
    "    argument = (np.log(limit) - (c1 + c2 * np.log(IMs))) / beta\n",
    "\n",
    "    # Calculate the CDF using scipy.stats.norm.cdf\n",
    "    fragility = 1 - norm.cdf(argument, 0, 1)\n",
    "\n",
    "    return fragility\n",
    "\n",
    "def calculate_MAF(IM,HC,frag,limit):\n",
    "    \"\"\"\n",
    "    Calculate the MAF of exceeding a limit state threshold given a hazard curve and a fragility function.\n",
    "\n",
    "    Args:\n",
    "    - IM : vector of IM that the fragility and the hazard curve are defined.\n",
    "    - HC : vector of hazar curve MAF(IM).\n",
    "    - frag : fragility curve defined as a function of IM, thus: P(x>threshold | IM)\n",
    "    - limit: limit threshold.\n",
    "\n",
    "    Returns:\n",
    "    - MAF: Mean annual frequency of exceeding the limit\n",
    "    \"\"\"\n",
    "    # Calculate the derivative of the fragility curve:\n",
    "    derivative_fragility = np.diff(frag) / np.diff(IM)\n",
    "    derivative_fragility = np.insert(derivative_fragility, 0, 0)\n",
    "    \n",
    "    # Calculate the intergral of (HC*dFrag) with trapezium rule\n",
    "    product = derivative_fragility * HC\n",
    "    MAF = np.trapz(product,IM)\n",
    "    \n",
    "    return MAF"
   ]
  },
  {
   "cell_type": "markdown",
   "id": "a2a54484",
   "metadata": {},
   "source": [
    "Before starting the calculation we have to make sure that the hazard curves are in the correct unities (meters and meters/sec) and increase its granularity by lineary interpolating them in the log space."
   ]
  },
  {
   "cell_type": "code",
   "execution_count": 3,
   "id": "a7292d75",
   "metadata": {
    "ExecuteTime": {
     "end_time": "2024-02-16T07:40:13.025374Z",
     "start_time": "2024-02-16T07:40:13.002430Z"
    }
   },
   "outputs": [],
   "source": [
    "# 3rd step: Hazard curve treatment\n",
    "## 3.1. Make sure the hazard curve are in the correct unities,\n",
    "SdT1_0p5 = SaT1_0p5 * 9.81 * (0.5/2/np.pi)**2  # in m\n",
    "SdT1_0p75 = SaT1_0p75 * 9.81 * (0.75/2/np.pi)**2  # in m\n",
    "PGV_m = PGV / 100 # in m\n",
    "\n",
    "## 3.2 Interpolate hazard curve for different periods (if needed)\n",
    "SaT1_0p9, MAF_SaT1_0p9 = interpolate_HCs_SaT(SaT1_0p75,MAF_SaT1_0p75,0.75,SaT1_1,MAF_SaT1_1,1,0.9)\n",
    "SdT1_0p9 = SaT1_0p9 * 9.81 * (0.9/2/np.pi)**2  # in m\n",
    "\n",
    "## 3.3. Make the hazard curves more granular by linear interpolating in the log space\n",
    "SdT1_0p5_interp = np.linspace(min(SdT1_0p5), max(SdT1_0p5), 1000)\n",
    "MAF_SdT1_0p5_interp = np.exp(np.interp(np.log(SdT1_0p5_interp),np.log(SdT1_0p5),np.log(MAF_SaT1_0p5)))\n",
    "\n",
    "SdT1_0p75_interp = np.linspace(min(SdT1_0p75), max(SdT1_0p75), 1000)\n",
    "MAF_SdT1_0p75_interp = np.exp(np.interp(np.log(SdT1_0p75_interp),np.log(SdT1_0p75),np.log(MAF_SaT1_0p75)))\n",
    "\n",
    "PGV_interp = np.linspace(min(PGV_m), max(PGV_m), 1000)\n",
    "MAF_PGV_interp = np.exp(np.interp(np.log(PGV_interp),np.log(PGV_m),np.log(MAF_PGV)))\n"
   ]
  },
  {
   "cell_type": "markdown",
   "id": "091b932e",
   "metadata": {},
   "source": [
    "Now we do the calculations for the first line of Table 4.3 in the dissertation:"
   ]
  },
  {
   "cell_type": "code",
   "execution_count": 4,
   "id": "f97dbb50",
   "metadata": {
    "ExecuteTime": {
     "end_time": "2024-02-16T07:40:13.202415Z",
     "start_time": "2024-02-16T07:40:13.025374Z"
    }
   },
   "outputs": [
    {
     "name": "stdout",
     "output_type": "stream",
     "text": [
      "The MAF(D1>0.084m) is 4.80e-10\n",
      "The MAF(u0>0.3m) is 2.88e-04\n"
     ]
    }
   ],
   "source": [
    "# 4th step: calculate MAF of limit states (values of Table 4.3)\n",
    "# Input for the PCE metamodeL:\n",
    "T1 = 0.5 # possible from 0.1 to 1, in seconds\n",
    "mratio = 0.55 # possible from 0.3 to 0.9\n",
    "muf = 0.05 # possible from 0.03 to 0.18\n",
    "Tb = 3.2 # possible from 3 to 6, in seconds\n",
    "\n",
    "# Threshold limit for fragility function:\n",
    "frag_lim_D1 = 0.084 # in meters\n",
    "frag_lim_u0 = 0.35 # in meters\n",
    "\n",
    "# Calculate PCE\n",
    "c1D1, c2D1, betaD1 = PCECalculator.run_PCE(T1,muf,mratio,Tb,'D1','GM')\n",
    "c1u0, c2u0, betau0 = PCECalculator.run_PCE(T1,muf,mratio,Tb,'u0','GM')\n",
    "\n",
    "# Calculate fragility\n",
    "fragilityD1 = frag_from_coefs(frag_lim_D1, SdT1_0p5_interp, c1D1, c2D1, betaD1)\n",
    "fragilityu0 = frag_from_coefs(frag_lim_u0, PGV_interp, c1u0, c2u0, betau0)\n",
    "\n",
    "# Calculate MAF\n",
    "MAF_D1 = calculate_MAF(SdT1_0p5_interp, MAF_SdT1_0p5_interp, fragilityD1, frag_lim_D1)\n",
    "MAF_u0 = calculate_MAF(PGV_interp, MAF_PGV_interp, fragilityu0, frag_lim_u0)\n",
    "\n",
    "print(f\"The MAF(D1>{frag_lim_D1:.3g}m) is {MAF_D1:.2e}\")\n",
    "print(f\"The MAF(u0>{frag_lim_u0:.1g}m) is {MAF_u0:.2e}\")"
   ]
  },
  {
   "cell_type": "markdown",
   "id": "7a2d0081",
   "metadata": {},
   "source": [
    "The SFP bearing base isolation device that we want to adopt is already good ($T_b$ = 3.2s, $\\mu_f$ = 0.05 and capacity = 0.3m). We can try changing the period of the super structure. But we have to have in mind that the period of the base isolation is ideally four times higher than the period of the superstructure ($T_b$ > $4 \\times T_1$)"
   ]
  },
  {
   "cell_type": "code",
   "execution_count": 5,
   "id": "0a87ae80",
   "metadata": {
    "ExecuteTime": {
     "end_time": "2024-02-16T07:40:13.402298Z",
     "start_time": "2024-02-16T07:40:13.205428Z"
    }
   },
   "outputs": [
    {
     "name": "stdout",
     "output_type": "stream",
     "text": [
      "The MAF(D1>0.084m) is 1.59e-05\n",
      "The MAF(u0>0.3m) is 2.90e-04\n"
     ]
    }
   ],
   "source": [
    "# Change the period repeat the procedure:\n",
    "## Attention! When we change the period we need to change the hazard curve accordingly:\n",
    "T1 = 0.75 # s\n",
    "Tb = 3.2 # s\n",
    "mratio = 0.55\n",
    "muf = 0.05\n",
    "\n",
    "# Calculate PCE\n",
    "c1D1, c2D1, betaD1 = PCECalculator.run_PCE(T1,muf,mratio,Tb,'D1','GM')\n",
    "c1u0, c2u0, betau0 = PCECalculator.run_PCE(T1,muf,mratio,Tb,'u0','GM')\n",
    "\n",
    "# Calculate fragility\n",
    "fragilityD1 = frag_from_coefs(frag_lim_D1, SdT1_0p75_interp, c1D1, c2D1, betaD1)\n",
    "fragilityu0 = frag_from_coefs(frag_lim_u0, PGV_interp, c1u0, c2u0, betau0)\n",
    "\n",
    "# Calculate MAF\n",
    "MAF_D1 = calculate_MAF(SdT1_0p75_interp, MAF_SdT1_0p75_interp, fragilityD1, frag_lim_D1)\n",
    "MAF_u0 = calculate_MAF(PGV_interp, MAF_PGV_interp, fragilityu0, frag_lim_u0)\n",
    "\n",
    "print(f\"The MAF(D1>{frag_lim_D1:.3g}m) is {MAF_D1:.2e}\")\n",
    "print(f\"The MAF(u0>{frag_lim_u0:.1g}m) is {MAF_u0:.2e}\")"
   ]
  },
  {
   "cell_type": "markdown",
   "id": "cb582e84",
   "metadata": {},
   "source": [
    "Now if we change the period of the superstructure to 0.9s the base isolation period should change too to satisfy the requirement that $T_b$ > $4 \\times T_1$. The next SFP bearing device in the catalog has $T_b$ = 3.9s."
   ]
  },
  {
   "cell_type": "code",
   "execution_count": 6,
   "id": "18a5abd2",
   "metadata": {
    "ExecuteTime": {
     "end_time": "2024-02-16T07:40:13.565443Z",
     "start_time": "2024-02-16T07:40:13.402298Z"
    }
   },
   "outputs": [
    {
     "name": "stdout",
     "output_type": "stream",
     "text": [
      "The MAF(D1>0.084m) is 6.97e-05\n",
      "The MAF(u0>0.3m) is 2.86e-04\n"
     ]
    }
   ],
   "source": [
    "# Change the period repeat the procedure:\n",
    "## Attention! When we change the period we need to change the hazard curve accordingly:\n",
    "T1 = 0.9 # s\n",
    "Tb = 3.9 # s\n",
    "mratio = 0.55\n",
    "muf = 0.05\n",
    "\n",
    "# Calculate PCE\n",
    "c1D1, c2D1, betaD1 = PCECalculator.run_PCE(T1,muf,mratio,Tb,'D1','GM')\n",
    "c1u0, c2u0, betau0 = PCECalculator.run_PCE(T1,muf,mratio,Tb,'u0','GM')\n",
    "\n",
    "# Calculate fragility\n",
    "fragilityD1 = frag_from_coefs(frag_lim_D1, SdT1_0p9, c1D1, c2D1, betaD1)\n",
    "fragilityu0 = frag_from_coefs(frag_lim_u0, PGV_interp, c1u0, c2u0, betau0)\n",
    "\n",
    "# Calculate MAF\n",
    "MAF_D1 = calculate_MAF(SdT1_0p9, MAF_SaT1_0p9, fragilityD1, frag_lim_D1)\n",
    "MAF_u0 = calculate_MAF(PGV_interp, MAF_PGV_interp, fragilityu0, frag_lim_u0)\n",
    "\n",
    "print(f\"The MAF(D1>{frag_lim_D1:.3g}m) is {MAF_D1:.2e}\")\n",
    "print(f\"The MAF(u0>{frag_lim_u0:.1g}m) is {MAF_u0:.2e}\")"
   ]
  },
  {
   "cell_type": "markdown",
   "id": "4fe12c99",
   "metadata": {},
   "source": [
    "We can try a last parameter change. We try changing the friction coefficient to see if it still attains the performance objectives."
   ]
  },
  {
   "cell_type": "code",
   "execution_count": 7,
   "id": "f7c12fd3",
   "metadata": {
    "ExecuteTime": {
     "end_time": "2024-02-16T07:40:13.745350Z",
     "start_time": "2024-02-16T07:40:13.566562Z"
    }
   },
   "outputs": [
    {
     "name": "stdout",
     "output_type": "stream",
     "text": [
      "The MAF(D1>0.084m) is 3.25e-04\n",
      "The MAF(u0>0.3m) is 1.88e-04\n"
     ]
    }
   ],
   "source": [
    "# Lets try a final one\n",
    "T1 = 0.9 # possible from 0.1 to 1, in seconds\n",
    "mratio = 0.55 # possible from 0.3 to 0.9\n",
    "muf = 0.09 # possible from 0.03 to 0.18\n",
    "Tb = 3.9 # possible from 3 to 6, in seconds\n",
    "\n",
    "# Calculate PCE\n",
    "c1D1, c2D1, betaD1 = PCECalculator.run_PCE(T1,muf,mratio,Tb,'D1','GM')\n",
    "c1u0, c2u0, betau0 = PCECalculator.run_PCE(T1,muf,mratio,Tb,'u0','GM')\n",
    "\n",
    "# Calculate fragility\n",
    "fragilityD1 = frag_from_coefs(frag_lim_D1, SdT1_0p9, c1D1, c2D1, betaD1)\n",
    "fragilityu0 = frag_from_coefs(frag_lim_u0, PGV_interp, c1u0, c2u0, betau0)\n",
    "\n",
    "# Calculate MAF\n",
    "MAF_D1 = calculate_MAF(SdT1_0p9, MAF_SaT1_0p9, fragilityD1, frag_lim_D1)\n",
    "MAF_u0 = calculate_MAF(PGV_interp, MAF_PGV_interp, fragilityu0, frag_lim_u0)\n",
    "\n",
    "print(f\"The MAF(D1>{frag_lim_D1:.3g}m) is {MAF_D1:.2e}\")\n",
    "print(f\"The MAF(u0>{frag_lim_u0:.1g}m) is {MAF_u0:.2e}\")"
   ]
  }
 ],
 "metadata": {
  "kernelspec": {
   "display_name": "Python 3 (ipykernel)",
   "language": "python",
   "name": "python3"
  },
  "language_info": {
   "codemirror_mode": {
    "name": "ipython",
    "version": 3
   },
   "file_extension": ".py",
   "mimetype": "text/x-python",
   "name": "python",
   "nbconvert_exporter": "python",
   "pygments_lexer": "ipython3",
   "version": "3.9.18"
  },
  "toc": {
   "base_numbering": 1,
   "nav_menu": {},
   "number_sections": true,
   "sideBar": true,
   "skip_h1_title": false,
   "title_cell": "Table of Contents",
   "title_sidebar": "Contents",
   "toc_cell": false,
   "toc_position": {},
   "toc_section_display": true,
   "toc_window_display": false
  },
  "varInspector": {
   "cols": {
    "lenName": 16,
    "lenType": 16,
    "lenVar": 40
   },
   "kernels_config": {
    "python": {
     "delete_cmd_postfix": "",
     "delete_cmd_prefix": "del ",
     "library": "var_list.py",
     "varRefreshCmd": "print(var_dic_list())"
    },
    "r": {
     "delete_cmd_postfix": ") ",
     "delete_cmd_prefix": "rm(",
     "library": "var_list.r",
     "varRefreshCmd": "cat(var_dic_list()) "
    }
   },
   "oldHeight": 633.2496659999999,
   "position": {
    "height": "40px",
    "left": "1314px",
    "right": "20px",
    "top": "118px",
    "width": "389.4px"
   },
   "types_to_exclude": [
    "module",
    "function",
    "builtin_function_or_method",
    "instance",
    "_Feature"
   ],
   "varInspector_section_display": "none",
   "window_display": true
  }
 },
 "nbformat": 4,
 "nbformat_minor": 5
}
