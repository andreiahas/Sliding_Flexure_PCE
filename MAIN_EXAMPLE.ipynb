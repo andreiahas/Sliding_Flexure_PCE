{
 "cells": [
  {
   "cell_type": "markdown",
   "id": "83dbbc7d",
   "metadata": {},
   "source": [
    "# Example 1:\n",
    "\n",
    "This example is based on the following paper: Silva and Stojadinovic (2024). Behavior prediction equations for sliding base-isolated structures.\n",
    "\n",
    "Goals of the example:\n",
    "\n",
    "(1) Use the PCE_calculator$^{*1}$ module to calculate the cloud coefficients ($c_1$, $c_2$, $\\beta_{GM}$) for a specific set of input parameters ($T_1 = 0.5s$, $m_1^* / m_{tot} = 0.8$, $\\mu_f = 0.05$, and $T_b = 4s$).\n",
    "\n",
    "(2) Given the cloud parameters calculate the fragility curve$^{*2}$ for the limit state thresholds $D_{1,lim} = 0.05m$ and $u_{0,lim} = 0.2m$\n",
    "\n",
    "$^{*1}:$ The explanation of how the PCE metamodels are calculated is available in the paper (Silva and Stojadinovic, 2024).\n",
    "\n",
    "$^{*2}:$The relationship between the cloud coefficients and the fragility curve is available in the paper (Silva and Stojadinovic, 2024)."
   ]
  },
  {
   "cell_type": "code",
   "execution_count": 1,
   "id": "7625906a",
   "metadata": {
    "ExecuteTime": {
     "end_time": "2024-01-29T14:40:10.652941Z",
     "start_time": "2024-01-29T14:40:10.189254Z"
    }
   },
   "outputs": [
    {
     "name": "stdout",
     "output_type": "stream",
     "text": [
      "PCE coefficients for D1 (for the Geometric Mean of Sd(T1)): c1= -3.595309145999489, c2= 0.35695078982221917, beta = 0.24527455921217708 \n",
      "PCE coefficients for u0 (for the Geometric Mean of PGV): c1= -1.0443769970277221, c2= 1.4644204358811015, beta = 0.5014926223014843 \n"
     ]
    }
   ],
   "source": [
    "from PCE_calculator import InputChecker\n",
    "from PCE_calculator import DataLoader\n",
    "from PCE_calculator import PCECalculator\n",
    "\n",
    "# Input\n",
    "T1 = 0.5 # possible from 0.1 to 1\n",
    "mratio = 0.8 # possible from 0.3 to 0.9\n",
    "muf = 0.05 # possible from 0.03 to 0.18\n",
    "Tb = 4 # possible from 3 to 6\n",
    "\n",
    "# Type of Analysis\n",
    "RQI = 'D1' # Response quantity of interest: possible entries 'D1' or 'u0'\n",
    "IM = 'GM' # Intensity Measure: possible entries 'SC' for single component and 'GM' for geometric mean\n",
    "\n",
    "# Calculate PCE\n",
    "c1D1, c2D1, betaD1 = PCECalculator.run_PCE(T1,muf,mratio,Tb,RQI,IM)\n",
    "\n",
    "# Type of Analysis\n",
    "RQI = 'u0' # Response quantity of interest: possible entries 'D1' or 'u0'\n",
    "IM = 'GM' # Intensity Measure: possible entries 'SC' for single component and 'GM' for geometric mean\n",
    "\n",
    "# Calculate PCE\n",
    "c1u0, c2u0, betau0 = PCECalculator.run_PCE(T1,muf,mratio,Tb,RQI,IM)\n",
    "\n",
    "print(f'PCE coefficients for D1 (for the Geometric Mean of Sd(T1)): c1= {c1D1}, c2= {c2D1}, beta = {betaD1} ')\n",
    "print(f'PCE coefficients for u0 (for the Geometric Mean of PGV): c1= {c1u0}, c2= {c2u0}, beta = {betau0} ')"
   ]
  },
  {
   "cell_type": "code",
   "execution_count": 2,
   "id": "5df5f10c",
   "metadata": {
    "ExecuteTime": {
     "end_time": "2024-01-29T14:40:29.934046Z",
     "start_time": "2024-01-29T14:40:29.195171Z"
    }
   },
   "outputs": [
    {
     "data": {
      "image/png": "[encoded data removed]",
      "text/plain": [
       "<Figure size 720x360 with 2 Axes>"
      ]
     },
     "metadata": {
      "needs_background": "light"
     },
     "output_type": "display_data"
    }
   ],
   "source": [
    "import numpy as np\n",
    "from scipy.stats import norm\n",
    "def frag_from_coefs(limit, IMs, c1, c2, beta):\n",
    "    \"\"\"\n",
    "    Calculate the fragility function based on the cloud coefficients c1, c2 and beta.\n",
    "    The fragility function is the probability of exceeding a \"limit\" given a \"Sd\".\n",
    "    The formula of the cloud analysis is: ln(displacement) = c1 + c2 * ln(IM) + beta\n",
    "\n",
    "    Args:\n",
    "    - limit: limit threshold.\n",
    "    - c1, c2, beta = cloud coefficients\n",
    "    - IMs: Vector of intensity measure values (herein, Sd(T1) and PGV).\n",
    "\n",
    "    Returns:\n",
    "    - fragility: Vector of the fragility curve given IMs.\n",
    "    \"\"\"\n",
    "    # Calculate the argument of the CDF\n",
    "    argument = (np.log(limit) - (c1 + c2 * np.log(IMs))) / beta\n",
    "\n",
    "    # Calculate the CDF using scipy.stats.norm.cdf\n",
    "    fragility = 1 - norm.cdf(argument, 0, 1)\n",
    "\n",
    "    return fragility\n",
    "\n",
    "# Threshold limit for fragility function:\n",
    "frag_limD1 = 0.05 # in meters\n",
    "frag_limu0 = 0.2 # in meters\n",
    "\n",
    "# Vector of IMs for the fragility function:\n",
    "IMs = np.linspace(0.01, 4, num=400)\n",
    "# Calculate fragility\n",
    "fragilityD1 = frag_from_coefs(frag_limD1, IMs, c1D1, c2D1, betaD1)\n",
    "fragilityu0 = frag_from_coefs(frag_limu0, IMs, c1u0, c2u0, betau0)\n",
    "\n",
    "import matplotlib.pyplot as plt\n",
    "fig, SubFig = plt.subplots(nrows=1, ncols=2, figsize=(10, 5))\n",
    "SubFig[0].plot(IMs, fragilityD1, color='b', linestyle='-')\n",
    "SubFig[0].set_xlabel('Sd(T1) (m)')\n",
    "SubFig[0].set_ylabel('P(D1 > 0.05m)')\n",
    "SubFig[0].grid(True)\n",
    "\n",
    "SubFig[1].plot(IMs, fragilityu0, color='b', linestyle='-')\n",
    "SubFig[1].set_xlabel('PGV (m/s)')\n",
    "SubFig[1].set_ylabel('P(u0 > 0.2)')\n",
    "SubFig[1].grid(True)"
   ]
  }
 ],
 "metadata": {
  "kernelspec": {
   "display_name": "Python 3 (ipykernel)",
   "language": "python",
   "name": "python3"
  },
  "language_info": {
   "codemirror_mode": {
    "name": "ipython",
    "version": 3
   },
   "file_extension": ".py",
   "mimetype": "text/x-python",
   "name": "python",
   "nbconvert_exporter": "python",
   "pygments_lexer": "ipython3",
   "version": "3.9.18"
  },
  "toc": {
   "base_numbering": 1,
   "nav_menu": {},
   "number_sections": true,
   "sideBar": true,
   "skip_h1_title": false,
   "title_cell": "Table of Contents",
   "title_sidebar": "Contents",
   "toc_cell": false,
   "toc_position": {},
   "toc_section_display": true,
   "toc_window_display": false
  },
  "varInspector": {
   "cols": {
    "lenName": 16,
    "lenType": 16,
    "lenVar": 40
   },
   "kernels_config": {
    "python": {
     "delete_cmd_postfix": "",
     "delete_cmd_prefix": "del ",
     "library": "var_list.py",
     "varRefreshCmd": "print(var_dic_list())"
    },
    "r": {
     "delete_cmd_postfix": ") ",
     "delete_cmd_prefix": "rm(",
     "library": "var_list.r",
     "varRefreshCmd": "cat(var_dic_list()) "
    }
   },
   "types_to_exclude": [
    "module",
    "function",
    "builtin_function_or_method",
    "instance",
    "_Feature"
   ],
   "window_display": false
  }
 },
 "nbformat": 4,
 "nbformat_minor": 5
}
